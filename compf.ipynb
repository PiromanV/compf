{
 "cells": [
  {
   "cell_type": "markdown",
   "id": "b5b5cd10",
   "metadata": {},
   "source": [
    "## Стековый компилятор формул (ipynb-версия)"
   ]
  },
  {
   "cell_type": "markdown",
   "id": "4964a95c",
   "metadata": {},
   "source": [
    "Для автоматической проверки кода с помощью `pycodestyle` можно использовать следующие «магические команды»:"
   ]
  },
  {
   "cell_type": "code",
   "execution_count": 4,
   "id": "dc9fc586",
   "metadata": {},
   "outputs": [
    {
     "name": "stdout",
     "output_type": "stream",
     "text": [
      "The pycodestyle_magic extension is already loaded. To reload it, use:\n",
      "  %reload_ext pycodestyle_magic\n"
     ]
    }
   ],
   "source": [
    "# При необходимости: pip install flake8 pycodestyle_magic\n",
    "%load_ext pycodestyle_magic\n",
    "%pycodestyle_on"
   ]
  },
  {
   "cell_type": "code",
   "execution_count": 5,
   "id": "897ab185",
   "metadata": {},
   "outputs": [],
   "source": [
    "class Stack:\n",
    "    def __init__(self):\n",
    "        self.array = []\n",
    "\n",
    "    def push(self, c):\n",
    "        self.array.append(c)\n",
    "\n",
    "    def pop(self):\n",
    "        return self.array.pop()\n",
    "\n",
    "    def top(self):\n",
    "        return self.array[len(self.array) - 1]"
   ]
  },
  {
   "cell_type": "markdown",
   "id": "842f4e0d",
   "metadata": {},
   "source": [
    "Стековый компилятор формул преобразует правильные\n",
    "арифметические формулы (цепочки языка, задаваемого\n",
    "грамматикой `G0`) в программы для стекового калькулятора\n",
    "(цепочки языка, определяемого грамматикой `Gs`):\n",
    "\n",
    "    G0:\n",
    "        F  ->  T  |  F+T  |  F-T\n",
    "        T  ->  M  |  T*M  |  T/M\n",
    "        M  -> (F) |   V\n",
    "        V  ->  a  |   b   |   c   |  ...  |    z\n",
    "\n",
    "    Gs:\n",
    "        e  ->  e e + | e e - | e e * | e e / |\n",
    "                     | a | b | ... | z\n",
    "\n",
    "В качестве операндов в формулах допустимы только\n",
    "однобуквенные имена переменных `[a-z]`."
   ]
  },
  {
   "cell_type": "code",
   "execution_count": 6,
   "id": "a74407be",
   "metadata": {},
   "outputs": [],
   "source": [
    "import re\n",
    "\n",
    "\n",
    "class Compf:\n",
    "\n",
    "    SYMBOLS = re.compile(\"[a-z]\")\n",
    "\n",
    "    def __init__(self):\n",
    "        self.s = Stack()\n",
    "        self.data = []\n",
    "\n",
    "    def compile(self, str):\n",
    "        self.data.clear()\n",
    "        for c in \"(\" + str + \")\":\n",
    "            self.process_symbol(c)\n",
    "        return \" \".join(self.data)\n",
    "\n",
    "    def process_symbol(self, c):\n",
    "        if c == \"(\":\n",
    "            self.s.push(c)\n",
    "        elif c == \")\":\n",
    "            self.process_suspended_operators(c)\n",
    "            self.s.pop()\n",
    "        elif c in \"+-*/\":\n",
    "            self.process_suspended_operators(c)\n",
    "            self.s.push(c)\n",
    "        else:\n",
    "            self.check_symbol(c)\n",
    "            self.process_value(c)\n",
    "\n",
    "    def process_suspended_operators(self, c):\n",
    "        while self.is_precedes(self.s.top(), c):\n",
    "            self.process_oper(self.s.pop())\n",
    "\n",
    "    def process_value(self, c):\n",
    "        self.data.append(c)\n",
    "\n",
    "    def process_oper(self, c):\n",
    "        self.data.append(c)\n",
    "\n",
    "    @classmethod\n",
    "    def check_symbol(self, c):\n",
    "        if not self.SYMBOLS.match(c):\n",
    "            raise Exception(f\"Недопустимый символ '{c}'\")\n",
    "\n",
    "    @staticmethod\n",
    "    def priority(c):\n",
    "        return 1 if (c == \"+\" or c == \"-\") else 2\n",
    "\n",
    "    @staticmethod\n",
    "    def is_precedes(a, b):\n",
    "        if a == \"(\":\n",
    "            return False\n",
    "        elif b == \")\":\n",
    "            return True\n",
    "        else:\n",
    "            return Compf.priority(a) >= Compf.priority(b)"
   ]
  },
  {
   "cell_type": "markdown",
   "id": "152fab05",
   "metadata": {},
   "source": [
    "Тесты тоже можно использовать в Jupyter Notebook:"
   ]
  },
  {
   "cell_type": "code",
   "execution_count": 7,
   "id": "cf03db54",
   "metadata": {},
   "outputs": [
    {
     "name": "stderr",
     "output_type": "stream",
     "text": [
      "...................\n",
      "----------------------------------------------------------------------\n",
      "Ran 19 tests in 0.006s\n",
      "\n",
      "OK\n"
     ]
    },
    {
     "data": {
      "text/plain": [
       "<unittest.main.TestProgram at 0x190fdded430>"
      ]
     },
     "execution_count": 7,
     "metadata": {},
     "output_type": "execute_result"
    }
   ],
   "source": [
    "import unittest\n",
    "\n",
    "\n",
    "class TestCompf(unittest.TestCase):\n",
    "\n",
    "    def setUp(self):\n",
    "        self.c = Compf()\n",
    "\n",
    "    def test_one_symbol(self):\n",
    "        self.assertEqual(self.c.compile(\"a\"), \"a\")\n",
    "\n",
    "    def test_correct_operations1(self):\n",
    "        self.assertEqual(self.c.compile(\"a+b\"), \"a b +\")\n",
    "\n",
    "    def test_correct_operations2(self):\n",
    "        self.assertEqual(self.c.compile(\"a-b\"), \"a b -\")\n",
    "\n",
    "    def test_correct_operations3(self):\n",
    "        self.assertEqual(self.c.compile(\"a*b\"), \"a b *\")\n",
    "\n",
    "    def test_correct_operations4(self):\n",
    "        self.assertEqual(self.c.compile(\"a/b\"), \"a b /\")\n",
    "\n",
    "    def test_operations_order1(self):\n",
    "        self.assertEqual(self.c.compile(\"a+c*b\"), \"a c b * +\")\n",
    "\n",
    "    def test_operations_order2(self):\n",
    "        self.assertEqual(self.c.compile(\"a*b/c\"), \"a b * c /\")\n",
    "\n",
    "    def test_operations_order3(self):\n",
    "        self.assertEqual(self.c.compile(\"a*(b/c)\"), \"a b c / *\")\n",
    "\n",
    "    def test_parentheses1(self):\n",
    "        self.assertEqual(self.c.compile(\"(a)\"), \"a\")\n",
    "\n",
    "    def test_parentheses2(self):\n",
    "        self.assertEqual(self.c.compile(\"(((((a))))\"), \"a\")\n",
    "\n",
    "    def test_parentheses3(self):\n",
    "        self.assertEqual(self.c.compile(\"(((((a+b))))\"), \"a b +\")\n",
    "\n",
    "    def test_parentheses4(self):\n",
    "        self.assertEqual(self.c.compile(\"(((((((a+b)*((a+b)))))))\"),\n",
    "                         \"a b + a b + *\")\n",
    "\n",
    "    def test_expressions1(self):\n",
    "        self.assertEqual(self.c.compile(\"(a+b)*c+(d-e)/f\"),\n",
    "                         \"a b + c * d e - f / +\")\n",
    "\n",
    "    def test_expressions2(self):\n",
    "        self.assertEqual(self.c.compile(\"c*(c+c+c+c/(c-c-c-c))\"),\n",
    "                         \"c c c + c + c c c - c - c - / + *\")\n",
    "\n",
    "    def test_expressions3(self):\n",
    "        self.assertEqual(self.c.compile(\"a/b*c+d*e/(f+g)\"),\n",
    "                         \"a b / c * d e * f g + / +\")\n",
    "\n",
    "    def test_expressions4(self):\n",
    "        self.assertEqual(self.c.compile(\"a/b*(c+d*e)/(f+g)\"),\n",
    "                         \"a b / c d e * + * f g + /\")\n",
    "\n",
    "    def test_expressions5(self):\n",
    "        self.assertEqual(self.c.compile(\"a+b*(c-d)*(c+(d-e)/a)/a\"),\n",
    "                         \"a b c d - * c d e - a / + * a / +\")\n",
    "\n",
    "    def test_expressions6(self):\n",
    "        self.assertEqual(self.c.compile(\"((c+(c*(c+(c+c/c)))))/(c+c)\"),\n",
    "                         \"c c c c c c / + + * + c c + /\")\n",
    "\n",
    "    def test_expressions7(self):\n",
    "        self.assertEqual(self.c.compile(\"c+(c+(c*(c+(c/(c*(c+c))))))\"),\n",
    "                         \"c c c c c c c c + * / + * + +\")\n",
    "\n",
    "\n",
    "unittest.main(argv=[''], exit=False)"
   ]
  },
  {
   "cell_type": "markdown",
   "id": "b7f3f369",
   "metadata": {},
   "source": [
    "Запуск компилятора:"
   ]
  },
  {
   "cell_type": "code",
   "execution_count": 8,
   "id": "cc8e3058",
   "metadata": {},
   "outputs": [
    {
     "name": "stdout",
     "output_type": "stream",
     "text": [
      "Результат её компиляции: a b +\n",
      "\n",
      "Завершение работы\n"
     ]
    }
   ],
   "source": [
    "c = Compf()\n",
    "while True:\n",
    "    s = input(\"Арифметическая  формула: \")\n",
    "    if len(s) == 0:\n",
    "        break\n",
    "    print(f\"Результат её компиляции: {c.compile(s)}\\n\")\n",
    "print(\"Завершение работы\")"
   ]
  },
  {
   "cell_type": "markdown",
   "id": "99196f13",
   "metadata": {},
   "source": [
    "### **Модификация проекта**\n",
    "\n",
    "---\n",
    "\n",
    "*Постановка задачи:*\n",
    "> Формулы, содержащие только записанные в шестнадцатеричной системе натуральные числа (запись которых обязана начинаться с 0x или 0X), абсолютная величина которых не превосходит 3999, компилируются в программы для стекового калькулятора, содержащие римские числа (в записи которых используются цифры I, V, X, L, C, D и M).  \n",
    "  \n",
    "*Идея решения:*  \n",
    "  \n",
    "Т.к. в проекте **уже** реализован стековый компилятор для арифмитических выражений с буквенными переменными, нет смысла *\"изобретать велосипед\"* или же редактировать уже имеющийся код, интегрируя в него решение нашей задачи, и достаточно заменить в выражении все 16-ричные числа на буквенные переменные, а после компиляции сделать обратную замену, попутно переведя 16-ричные числа в римские.  \n",
    "\n",
    "В случае необходимости, разумеется, можно без труда реализовать полный функционал обеих частей проекта(основной и модификации) в рамках одного запуска компилятора, но это не было явно указано при постановке задачи, посему мною было принято решение для большей понятности кода, все-таки реализованную на базе проекта модификацию вынести в отдельный пусковой блок кода."
   ]
  },
  {
   "cell_type": "markdown",
   "id": "cb4f5fba",
   "metadata": {},
   "source": [
    "Стековый компилятор формул преобразует правильные\n",
    "арифметические формулы (цепочки языка, задаваемого\n",
    "грамматикой `G0`) в программы для стекового калькулятора\n",
    "(цепочки языка, определяемого грамматикой `Gs`):\n",
    "\n",
    "    G0:\n",
    "        F  ->  T  |  F+T  |  F-T\n",
    "        T  ->  M  |  T*M  |  T/M\n",
    "        M  -> (F) |   V\n",
    "        V  -> 0xK |  0XK\n",
    "        K  ->  1K |  2K   |  ...  |   9K   |   aK   |  ...  |   fK   |\n",
    "                  |   1   |  ...  |   9    |   a    |  ...  |   f   |\n",
    "\n",
    "    Gs:\n",
    "        e  ->  e e + | e e - | e e * | e e / |\n",
    "                     | Ie | Ve | Xe | Le | Ce | De | Me |\n",
    "                     | I  | V  | X  | L  | C  | D  | M  |\n"
   ]
  },
  {
   "cell_type": "markdown",
   "id": "da3e29b1",
   "metadata": {},
   "source": [
    "Функция перевода 16-ричных чисел в римские:"
   ]
  },
  {
   "cell_type": "code",
   "execution_count": 15,
   "id": "b41f74e0",
   "metadata": {},
   "outputs": [],
   "source": [
    "def hex_to_roman(hex):\n",
    "    dec = int(hex, 16)\n",
    "    val = [\n",
    "        1000, 900, 500, 400,\n",
    "        100, 90, 50, 40,\n",
    "        10, 9, 5, 4,\n",
    "        1\n",
    "        ]\n",
    "    syb = [\n",
    "        \"M\", \"CM\", \"D\", \"CD\",\n",
    "        \"C\", \"XC\", \"L\", \"XL\",\n",
    "        \"X\", \"IX\", \"V\", \"IV\",\n",
    "        \"I\"\n",
    "        ]\n",
    "    rom = ''\n",
    "    i = 0\n",
    "    while dec > 0:\n",
    "        for _ in range(dec // val[i]):\n",
    "            rom += syb[i]\n",
    "            dec -= val[i]\n",
    "        i += 1\n",
    "    return rom"
   ]
  },
  {
   "cell_type": "markdown",
   "id": "0f67ba71",
   "metadata": {},
   "source": [
    "Функция для замены всех 16-ричных чисел на буквы:"
   ]
  },
  {
   "cell_type": "code",
   "execution_count": 20,
   "id": "2540e6f4",
   "metadata": {},
   "outputs": [],
   "source": [
    "def hex2let(expression):\n",
    "    # Регулярное выражение для поиска\n",
    "    # шестнадцатеричных чисел, начинающихся с 0x или 0X\n",
    "    pattern = r'0[xX][0-9A-Fa-f]+'\n",
    "\n",
    "    # Находим все шестнадцатеричные числа в строке\n",
    "    hex_num = re.findall(pattern, expression)\n",
    "\n",
    "    # Словарь для замены чисел на переменные\n",
    "    replacements = {}\n",
    "    SYMBOLS = 'abcdefghijklmnopqrstuvwxyz'\n",
    "\n",
    "    # Заменяем шестнадцатеричные числа на буквы\n",
    "    for i, hex in enumerate(hex_num):\n",
    "        replacements[hex] = SYMBOLS[i]\n",
    "\n",
    "    # Функция для замены\n",
    "    def replace(match):\n",
    "        return replacements[match.group(0)]\n",
    "\n",
    "    # Заменяем числа в выражении\n",
    "    modified_expression = re.sub(pattern, replace, expression)\n",
    "\n",
    "    # Переводим 16-ричные числа в римские\n",
    "    rom_num = list(map(hex_to_roman, hex_num))\n",
    "\n",
    "    return modified_expression, rom_num"
   ]
  },
  {
   "cell_type": "markdown",
   "id": "efd52d52",
   "metadata": {},
   "source": [
    "Функция для замены переменных для компиляции на римские числа:"
   ]
  },
  {
   "cell_type": "code",
   "execution_count": 21,
   "id": "5aeaed39",
   "metadata": {},
   "outputs": [],
   "source": [
    "def let2rom(expression, rom_num):\n",
    "    # Регулярное выражение для поиска латинских букв в выражении\n",
    "    SYMBOLS = re.compile(\"[a-z]\")\n",
    "\n",
    "    # Находим все буквы в строке\n",
    "    letters = re.findall(SYMBOLS, expression)\n",
    "\n",
    "    # Словарь для замены букв на римские числа\n",
    "    replacements = {letter: rom_num[i] for i, letter in enumerate(letters)}\n",
    "\n",
    "    # Функция для замены\n",
    "    def replace(match):\n",
    "        return replacements[match.group(0)]\n",
    "\n",
    "    # Заменяем буквы в выражении\n",
    "    modified_expression = re.sub(SYMBOLS, replace, expression)\n",
    "\n",
    "    return modified_expression"
   ]
  },
  {
   "cell_type": "markdown",
   "id": "631aa307",
   "metadata": {},
   "source": [
    "Тесты:"
   ]
  },
  {
   "cell_type": "code",
   "execution_count": 25,
   "id": "2de9d600",
   "metadata": {},
   "outputs": [],
   "source": [
    "import unittest\n",
    "\n",
    "\n",
    "class TestHex2Roman(unittest.TestCase):\n",
    "    # Блок тестов на перевод 16-ричных чисел в римские\n",
    "    def test_hex2rom1(self):\n",
    "        self.assertEqual(hex_to_roman('0x1'), 'I')\n",
    "\n",
    "    def test_hex2rom2(self):\n",
    "        self.assertEqual(hex_to_roman('0XA'), 'X')\n",
    "\n",
    "    def test_hex2rom3(self):\n",
    "        self.assertEqual(hex_to_roman('0x64'), 'LXIV')\n",
    "\n",
    "    def test_hex2rom4(self):\n",
    "        self.assertEqual(hex_to_roman('0X3E8'), 'MMMDCCCLXXXVIII')\n",
    "\n",
    "    # Блок тестов на замену 16-ричных чисел буквенными переменными\n",
    "    def test_hex2let1(self):\n",
    "        self.assertEqual(hex2let('0x1 + 0xA'), ('a + b', ['I', 'X']))\n",
    "\n",
    "    def test_hex2let2(self):\n",
    "        self.assertEqual(hex2let('0x64 * 0x3E8'),\n",
    "                         ('a * b', ['LXIV', 'MMMDCCCLXXXVIII']))\n",
    "\n",
    "    # Блок тестов на замену буквенных переменных\n",
    "    # соответстующими римскими числами\n",
    "    def test_let2rom1(self):\n",
    "        self.assertEqual(let2rom('a + b', ['I', 'X']), 'I + X')\n",
    "\n",
    "    def test_let2rom2(self):\n",
    "        self.assertEqual(let2rom('a * b', ['LXIV', 'MMMDCCCLXXXVIII']),\n",
    "                         'LXIV * MMMDCCCLXXXVIII')"
   ]
  },
  {
   "cell_type": "markdown",
   "id": "aadae086",
   "metadata": {},
   "source": [
    "Запуск компилятора для 16-ричных чисел:"
   ]
  },
  {
   "cell_type": "code",
   "execution_count": 13,
   "id": "bb080c65",
   "metadata": {},
   "outputs": [
    {
     "name": "stdout",
     "output_type": "stream",
     "text": [
      "Результат её компиляции: CCXCI CXVIII -\n",
      "\n",
      "Завершение работы\n"
     ]
    }
   ],
   "source": [
    "c = Compf()\n",
    "while True:\n",
    "    s = input(\"Арифметическая  формула: \")\n",
    "    if len(s) == 0:\n",
    "        break\n",
    "    s, rom_num = hex2let(s)\n",
    "    res = let2rom(c.compile(s), rom_num)\n",
    "    print(f\"Результат её компиляции: {res}\\n\")\n",
    "print(\"Завершение работы\")"
   ]
  }
 ],
 "metadata": {
  "kernelspec": {
   "display_name": "Python 3 (ipykernel)",
   "language": "python",
   "name": "python3"
  },
  "language_info": {
   "codemirror_mode": {
    "name": "ipython",
    "version": 3
   },
   "file_extension": ".py",
   "mimetype": "text/x-python",
   "name": "python",
   "nbconvert_exporter": "python",
   "pygments_lexer": "ipython3",
   "version": "3.12.0"
  }
 },
 "nbformat": 4,
 "nbformat_minor": 5
}
